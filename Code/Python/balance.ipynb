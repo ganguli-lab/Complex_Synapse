{
 "cells": [
  {
   "cell_type": "code",
   "execution_count": 1,
   "metadata": {},
   "outputs": [],
   "source": [
    "import numpy as np\n",
    "import numpy_linalg as la\n",
    "import complex_synapse as cs\n",
    "from sl_py_tools.import_tricks import reload"
   ]
  },
  {
   "cell_type": "code",
   "execution_count": 2,
   "metadata": {},
   "outputs": [],
   "source": [
    "np.set_printoptions(formatter={'float_kind': '{: #5.2g}'.format})"
   ]
  },
  {
   "cell_type": "code",
   "execution_count": 101,
   "metadata": {},
   "outputs": [],
   "source": [
    "%pdoc cs.SynapseMemoryModel"
   ]
  },
  {
   "cell_type": "code",
   "execution_count": 10,
   "metadata": {},
   "outputs": [
    {
     "name": "stdout",
     "output_type": "stream",
     "text": [
      "Reloading complex_synapse.synapse_memory_model\n",
      "Reloading complex_synapse.synapse_base\n",
      "Reloading complex_synapse.builders\n",
      "Reloading sl_py_tools.numpy_tricks\n",
      "Reloading complex_synapse.synapse_opt\n"
     ]
    }
   ],
   "source": [
    "reload(cs)"
   ]
  },
  {
   "cell_type": "code",
   "execution_count": 11,
   "metadata": {},
   "outputs": [],
   "source": [
    "def balance_grad(model: cs.SynapseMemoryModel, s: float) -> float:\n",
    "    W = model.markov()\n",
    "    Zi = model.zinv(s)\n",
    "    K = model.enc()\n",
    "    p = model.peq()\n",
    "    Zid = cs.builders.ma.adjoint(Zi, p)\n",
    "    return (p.r @ K @ Zi.inv @ (la.eye(model.nstates) - Zid @ Zi.inv) @ model.weight.c).us"
   ]
  },
  {
   "cell_type": "code",
   "execution_count": 4,
   "metadata": {},
   "outputs": [],
   "source": [
    "s = 4\n",
    "n = 6"
   ]
  },
  {
   "cell_type": "code",
   "execution_count": 14,
   "metadata": {},
   "outputs": [
    {
     "name": "stdout",
     "output_type": "stream",
     "text": [
      "gradient [-0.70 -0.61 -0.53 -0.46 -0.41 -0.36 -0.32 -0.28 -0.25 -0.23]/100\n",
      "sign False\n"
     ]
    }
   ],
   "source": [
    "syn = cs.SynapseMemoryModel.rand(n, binary=True)\n",
    "syn.sign_fix()\n",
    "ss = la.linspace(0, s, 10)\n",
    "bgrad = balance_grad(syn, ss)\n",
    "# snrl = syn.snr_laplace(ss)\n",
    "print(f'gradient {bgrad * 100}/100')\n",
    "# print(f'laplace  {snrl * 100}/100')\n",
    "print('sign', (bgrad >= 0).all())"
   ]
  },
  {
   "cell_type": "code",
   "execution_count": 133,
   "metadata": {},
   "outputs": [
    {
     "data": {
      "text/plain": [
       "lnarray([[ 0.52, -0.0067, -0.16, -0.31,  0.079, -0.13],\n",
       "         [-0.43,  0.55, -0.16, -0.24,  0.30, -0.014],\n",
       "         [ 0.26,  0.057, -0.49,  0.39, -0.33,  0.12],\n",
       "         [-0.31,  0.014, -0.36,  0.24,  0.28,  0.15],\n",
       "         [-0.19,  0.084,  0.24,  0.45, -0.30, -0.28],\n",
       "         [-0.011, -0.17, -0.25,  0.36, -0.069,  0.14]])"
      ]
     },
     "execution_count": 133,
     "metadata": {},
     "output_type": "execute_result"
    }
   ],
   "source": [
    "syn.enc()"
   ]
  }
 ],
 "metadata": {
  "kernelspec": {
   "display_name": "Python 3",
   "language": "python",
   "name": "python3"
  },
  "language_info": {
   "codemirror_mode": {
    "name": "ipython",
    "version": 3
   },
   "file_extension": ".py",
   "mimetype": "text/x-python",
   "name": "python",
   "nbconvert_exporter": "python",
   "pygments_lexer": "ipython3",
   "version": "3.7.0"
  }
 },
 "nbformat": 4,
 "nbformat_minor": 2
}
