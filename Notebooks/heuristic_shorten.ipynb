{
 "cells": [
  {
   "cell_type": "code",
   "execution_count": 1,
   "metadata": {},
   "outputs": [],
   "source": [
    "import numpy as np\n",
    "import scipy.optimize as sco\n",
    "import matplotlib as mpl\n",
    "import matplotlib.pyplot as plt\n",
    "import sl_py_tools.matplotlib_tricks as mpt\n"
   ]
  },
  {
   "cell_type": "code",
   "execution_count": 2,
   "metadata": {},
   "outputs": [],
   "source": [
    "import complex_synapse.optimise.shorten as sh\n",
    "from complex_synapse.optimise.shorten import Y_STAR, A_STAR"
   ]
  },
  {
   "cell_type": "code",
   "execution_count": 3,
   "metadata": {
    "tags": []
   },
   "outputs": [],
   "source": [
    "def limits_s(num, *args, **kwds):\n",
    "    return sh.beta_to_s(np.array(sh.limits(num, *args, **kwds)))"
   ]
  },
  {
   "cell_type": "code",
   "execution_count": 4,
   "metadata": {},
   "outputs": [],
   "source": [
    "mpt.rc_fonts()\n",
    "mpt.rc_colours()"
   ]
  },
  {
   "cell_type": "markdown",
   "metadata": {},
   "source": [
    "## Tests"
   ]
  },
  {
   "cell_type": "code",
   "execution_count": 5,
   "metadata": {
    "tags": []
   },
   "outputs": [
    {
     "name": "stdout",
     "output_type": "stream",
     "text": [
      "lo:converged; eps=1.00\n",
      " f(x_0)=0.13; f(x_1)=-62439.11; f(x)=0.00\n",
      "hi:converged; eps=0.00\n",
      " f(x_0)=0.12; f(x_1)=-69468.96; f(x)=-0.00\n",
      "lo:converged; eps=1.00\n",
      " f(x_0)=0.22; f(x_1)=-2067.03; f(x)=0.00\n",
      "hi:converged; eps=0.00\n",
      " f(x_0)=0.19; f(x_1)=-3301.66; f(x)=0.00\n"
     ]
    },
    {
     "data": {
      "text/plain": [
       "array([1.281, 2.732, 3.562, 8.758])"
      ]
     },
     "execution_count": 5,
     "metadata": {},
     "output_type": "execute_result"
    }
   ],
   "source": [
    "np.r_[1 / limits_s(4, True), 1 / limits_s(6, True)]"
   ]
  },
  {
   "cell_type": "code",
   "execution_count": 4,
   "metadata": {},
   "outputs": [
    {
     "data": {
      "text/plain": [
       "(1.051422594567153, 1.0514225945671531, 6.661338147750939e-16)"
      ]
     },
     "execution_count": 4,
     "metadata": {},
     "output_type": "execute_result"
    }
   ],
   "source": [
    "x = .7\n",
    "sh.uniform(x, sh.num_star(x)), sh.uni_star(x), Y_STAR - np.tanh(Y_STAR/2) * np.cosh(Y_STAR)"
   ]
  },
  {
   "cell_type": "markdown",
   "metadata": {},
   "source": [
    "## For paper"
   ]
  },
  {
   "cell_type": "code",
   "execution_count": 5,
   "metadata": {},
   "outputs": [
    {
     "data": {
      "text/plain": [
       "(4.533267755650629,\n",
       " 0.22059142629585904,\n",
       " 1.3642300206961724,\n",
       " 0.7330142166859044)"
      ]
     },
     "execution_count": 5,
     "metadata": {},
     "output_type": "execute_result"
    }
   ],
   "source": [
    "(2 * Y_STAR**2), 1 / (2 * Y_STAR**2), (2 * np.sinh(Y_STAR / 2)**2), 1 / (2 * np.sinh(Y_STAR / 2)**2)"
   ]
  },
  {
   "cell_type": "code",
   "execution_count": 6,
   "metadata": {},
   "outputs": [
    {
     "data": {
      "text/plain": [
       "(1.5055344160215383, 0.5420285775618274)"
      ]
     },
     "execution_count": 6,
     "metadata": {},
     "output_type": "execute_result"
    }
   ],
   "source": [
    "Y_STAR, (A_STAR * np.sqrt(2))"
   ]
  },
  {
   "cell_type": "markdown",
   "metadata": {},
   "source": [
    "## Plots"
   ]
  },
  {
   "cell_type": "code",
   "execution_count": 7,
   "metadata": {},
   "outputs": [
    {
     "data": {
      "text/plain": [
       "(0.0, 5.0)"
      ]
     },
     "execution_count": 7,
     "metadata": {},
     "output_type": "execute_result"
    },
    {
     "data": {
      "image/png": "[encoded data removed]",
      "text/plain": [
       "<Figure size 432x288 with 1 Axes>"
      ]
     },
     "metadata": {
      "needs_background": "light"
     },
     "output_type": "display_data"
    }
   ],
   "source": [
    "betas = (np.linspace(0.01, 1, 50))\n",
    "epss = sh.eps_stars(betas, 10)\n",
    "plt.plot(betas, epss[0], betas, epss[1], betas, np.ones_like(betas), 'k:')\n",
    "plt.ylim(0, 5)"
   ]
  },
  {
   "cell_type": "code",
   "execution_count": 8,
   "metadata": {},
   "outputs": [
    {
     "data": {
      "text/plain": [
       "(0.7527672080107691, 0.5018448053405128, 0.37638360400538456)"
      ]
     },
     "execution_count": 8,
     "metadata": {},
     "output_type": "execute_result"
    }
   ],
   "source": [
    "betas = np.linspace(0.01, 0.76, 50)\n",
    "lo, hi = sh.lower(betas, 6), sh.upper(betas, 6)\n",
    "sh.beta_star(4), sh.beta_star(6), sh.beta_star(8)"
   ]
  },
  {
   "cell_type": "code",
   "execution_count": 10,
   "metadata": {},
   "outputs": [
    {
     "data": {
      "image/png": "[encoded data removed]",
      "text/plain": [
       "<Figure size 432x288 with 1 Axes>"
      ]
     },
     "metadata": {
      "needs_background": "light"
     },
     "output_type": "display_data"
    }
   ],
   "source": [
    "plt.plot(betas, lo, betas, hi)\n",
    "plt.ylim(-2, 2)\n",
    "mpt.centre_spines(None, 0.01, 0.01, centre_tick='none')"
   ]
  },
  {
   "cell_type": "code",
   "execution_count": 6,
   "metadata": {},
   "outputs": [
    {
     "data": {
      "text/plain": [
       "(array([0.01 , 0.733]),\n",
       " array([1.281, 2.732]),\n",
       " array([3.562, 8.758]),\n",
       " array([ 7.156, 16.412]),\n",
       " array([12.277, 25.78 ]))"
      ]
     },
     "execution_count": 6,
     "metadata": {},
     "output_type": "execute_result"
    }
   ],
   "source": [
    "1/limits_s(2), 1/limits_s(4), 1/limits_s(6), 1/limits_s(8), 1/limits_s(10)"
   ]
  },
  {
   "cell_type": "code",
   "execution_count": 7,
   "metadata": {},
   "outputs": [],
   "source": [
    "s, a, env = sh.envelopes(10, 50)\n",
    "s_env, a_env = sh.env_ravel(s, env)\n",
    "appx = sh.env_approx(s_env)"
   ]
  },
  {
   "cell_type": "code",
   "execution_count": 8,
   "metadata": {},
   "outputs": [],
   "source": [
    "gaps = sh.gaps(10, 20)\n",
    "t_gaps = 1 / gaps[0]\n",
    "r_gaps = gaps[1] / gaps[2]\n",
    "snr_gaps = gaps[1] * gaps[0]"
   ]
  },
  {
   "cell_type": "code",
   "execution_count": 10,
   "metadata": {},
   "outputs": [
    {
     "data": {
      "image/png": "[encoded data removed]",
      "text/plain": [
       "<Figure size 432x288 with 1 Axes>"
      ]
     },
     "metadata": {
      "needs_background": "light"
     },
     "output_type": "display_data"
    }
   ],
   "source": [
    "fig1, ax = plt.subplots()\n",
    "ax.loglog(1 / s_env, s_env * a_env, label=\"uni. cts.\", color='grey')\n",
    "ax.loglog(1 / s_env, s_env * appx, ':', label=\"approx\", color='grey')\n",
    "for num, ss, aa in zip(range(2, 12, 2), s, a):\n",
    "    # env = np.interp(ss, s_env, a_env)\n",
    "    ax.loglog(1 / ss, aa * ss, label=f\"M={num}\")\n",
    "for num, (tt, snr) in enumerate(zip(t_gaps, snr_gaps)):\n",
    "    ax.loglog(tt, snr, ':', color=f\"C{num}\")\n",
    "plt.legend(loc=1)\n",
    "ax.set_xlim(0.5, 40)\n",
    "ax.set_ylim(0.1, 1)\n",
    "ax.set_xlabel(\"Mean recall time, $\\\\tau$\")\n",
    "ax.set_ylabel(\"SNR\")\n",
    "mpt.clean_axes(ax)\n"
   ]
  },
  {
   "cell_type": "code",
   "execution_count": 7,
   "metadata": {},
   "outputs": [
    {
     "data": {
      "text/plain": [
       "array([[5.298, 1.506],\n",
       "       [1.282, 1.173],\n",
       "       [0.669, 0.619],\n",
       "       [0.447, 0.425],\n",
       "       [0.335, 0.323]])"
      ]
     },
     "execution_count": 7,
     "metadata": {},
     "output_type": "execute_result"
    }
   ],
   "source": [
    "np.stack([sh.limits(n) for n in range(2, 12, 2)])"
   ]
  },
  {
   "cell_type": "code",
   "execution_count": 11,
   "metadata": {},
   "outputs": [
    {
     "data": {
      "image/png": "[encoded data removed]",
      "text/plain": [
       "<Figure size 432x288 with 1 Axes>"
      ]
     },
     "metadata": {
      "needs_background": "light"
     },
     "output_type": "display_data"
    }
   ],
   "source": [
    "fig2, ax = plt.subplots()\n",
    "ax.loglog(1 / s_env, appx / a_env, ':', label=\"approx\", color='grey')\n",
    "ax.loglog([0.5, 40], [1, 1], color='grey')\n",
    "for num, ss, aa, ee in zip(range(2, 12, 2), s, a, env):\n",
    "    ax.loglog(1 / ss, aa /ee, label=f\"M={num}\")\n",
    "for num, (tt, rr) in enumerate(zip(t_gaps, r_gaps)):\n",
    "    ax.loglog(tt, rr, ':', color=f\"C{num}\")\n",
    "ax.set_xlim(0.5, 40)\n",
    "ax.set_ylim(0.9, 1.1)\n",
    "ax.set_xlabel(\"Mean recall time, $\\\\tau$\")\n",
    "ax.set_ylabel(\"SNR/uni. cts.\")\n",
    "mpt.clean_axes(ax)"
   ]
  },
  {
   "cell_type": "code",
   "execution_count": null,
   "metadata": {},
   "outputs": [],
   "source": [
    "fig1.savefig('../../Notes/Figures/shorten_opt.pdf')"
   ]
  },
  {
   "cell_type": "code",
   "execution_count": null,
   "metadata": {},
   "outputs": [],
   "source": [
    "fig2.savefig('../../Notes/Figures/shorten_ratio.pdf')"
   ]
  },
  {
   "cell_type": "code",
   "execution_count": null,
   "metadata": {},
   "outputs": [],
   "source": []
  }
 ],
 "metadata": {
  "interpreter": {
   "hash": "97ae724bfa85b9b34df7982b8bb8c7216f435b92902d749e4263f71162bea840"
  },
  "kernelspec": {
   "display_name": "Python 3.7.6 64-bit ('base': conda)",
   "language": "python",
   "name": "python3"
  },
  "language_info": {
   "codemirror_mode": {
    "name": "ipython",
    "version": 3
   },
   "file_extension": ".py",
   "mimetype": "text/x-python",
   "name": "python",
   "nbconvert_exporter": "python",
   "pygments_lexer": "ipython3",
   "version": "3.9.7"
  },
  "orig_nbformat": 2
 },
 "nbformat": 4,
 "nbformat_minor": 2
}
